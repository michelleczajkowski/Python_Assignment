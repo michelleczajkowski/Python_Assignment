{
 "cells": [
  {
   "cell_type": "code",
   "execution_count": 12,
   "metadata": {},
   "outputs": [],
   "source": [
    "import pandas as pd\n",
    "import random\n",
    "import tkinter as tk\n",
    "from PIL import ImageTk, Image\n",
    "import time\n",
    "import keyboard \n",
    "import os"
   ]
  },
  {
   "cell_type": "code",
   "execution_count": 13,
   "metadata": {},
   "outputs": [],
   "source": [
    "# Read the CSV file into a dataframe\n",
    "stimulus = pd.read_csv('stimulus.csv')"
   ]
  },
  {
   "cell_type": "code",
   "execution_count": 14,
   "metadata": {},
   "outputs": [
    {
     "name": "stdout",
     "output_type": "stream",
     "text": [
      "verpleegkundige\n",
      "verpleegkundige_vrouw.jpg\n",
      "images\\verpleegkundige_vrouw.jpg\n"
     ]
    }
   ],
   "source": [
    "# Select a random row from the data set\n",
    "\n",
    "# assign col 1 to 'word'\n",
    "row = stimulus.sample()\n",
    "\n",
    "# Select a random word from the 'word' column\n",
    "word = row.iloc[0, 0]\n",
    "\n",
    "# select the value from the other rows randomly \n",
    "value_col = random.choice([1, 2, 3])\n",
    "image = row.iloc[0, value_col]\n",
    "\n",
    "# create image path \n",
    "#image_path = f\"images\\\\{image}\"\n",
    "image_path = os.path.join(\"images\", image)\n",
    "\n",
    "\n",
    "print(word)\n",
    "print(image)\n",
    "print(image_path)"
   ]
  },
  {
   "cell_type": "code",
   "execution_count": 23,
   "metadata": {},
   "outputs": [
    {
     "ename": "TclError",
     "evalue": "image \"pyimage8\" doesn't exist",
     "output_type": "error",
     "traceback": [
      "\u001b[1;31m---------------------------------------------------------------------------\u001b[0m",
      "\u001b[1;31mTclError\u001b[0m                                  Traceback (most recent call last)",
      "Cell \u001b[1;32mIn[23], line 23\u001b[0m\n\u001b[0;32m     20\u001b[0m tk_image \u001b[39m=\u001b[39m ImageTk\u001b[39m.\u001b[39mPhotoImage(image)\n\u001b[0;32m     22\u001b[0m \u001b[39m# Create an image item on the canvas using the PhotoImage object\u001b[39;00m\n\u001b[1;32m---> 23\u001b[0m canvas\u001b[39m.\u001b[39;49mcreate_image(\u001b[39m400\u001b[39;49m, \u001b[39m300\u001b[39;49m, image\u001b[39m=\u001b[39;49mtk_image)\n\u001b[0;32m     25\u001b[0m \u001b[39m# Pack the canvas so it appears in the window\u001b[39;00m\n\u001b[0;32m     26\u001b[0m canvas\u001b[39m.\u001b[39mpack()\n",
      "File \u001b[1;32mc:\\Python39\\lib\\tkinter\\__init__.py:2790\u001b[0m, in \u001b[0;36mCanvas.create_image\u001b[1;34m(self, *args, **kw)\u001b[0m\n\u001b[0;32m   2788\u001b[0m \u001b[39mdef\u001b[39;00m \u001b[39mcreate_image\u001b[39m(\u001b[39mself\u001b[39m, \u001b[39m*\u001b[39margs, \u001b[39m*\u001b[39m\u001b[39m*\u001b[39mkw):\n\u001b[0;32m   2789\u001b[0m \u001b[39m    \u001b[39m\u001b[39m\"\"\"Create image item with coordinates x1,y1.\"\"\"\u001b[39;00m\n\u001b[1;32m-> 2790\u001b[0m     \u001b[39mreturn\u001b[39;00m \u001b[39mself\u001b[39;49m\u001b[39m.\u001b[39;49m_create(\u001b[39m'\u001b[39;49m\u001b[39mimage\u001b[39;49m\u001b[39m'\u001b[39;49m, args, kw)\n",
      "File \u001b[1;32mc:\\Python39\\lib\\tkinter\\__init__.py:2776\u001b[0m, in \u001b[0;36mCanvas._create\u001b[1;34m(self, itemType, args, kw)\u001b[0m\n\u001b[0;32m   2774\u001b[0m \u001b[39melse\u001b[39;00m:\n\u001b[0;32m   2775\u001b[0m     cnf \u001b[39m=\u001b[39m {}\n\u001b[1;32m-> 2776\u001b[0m \u001b[39mreturn\u001b[39;00m \u001b[39mself\u001b[39m\u001b[39m.\u001b[39mtk\u001b[39m.\u001b[39mgetint(\u001b[39mself\u001b[39;49m\u001b[39m.\u001b[39;49mtk\u001b[39m.\u001b[39;49mcall(\n\u001b[0;32m   2777\u001b[0m     \u001b[39mself\u001b[39;49m\u001b[39m.\u001b[39;49m_w, \u001b[39m'\u001b[39;49m\u001b[39mcreate\u001b[39;49m\u001b[39m'\u001b[39;49m, itemType,\n\u001b[0;32m   2778\u001b[0m     \u001b[39m*\u001b[39;49m(args \u001b[39m+\u001b[39;49m \u001b[39mself\u001b[39;49m\u001b[39m.\u001b[39;49m_options(cnf, kw))))\n",
      "\u001b[1;31mTclError\u001b[0m: image \"pyimage8\" doesn't exist"
     ]
    }
   ],
   "source": [
    "import tkinter as tk\n",
    "from PIL import Image, ImageTk\n",
    "\n",
    "# Create the main window\n",
    "window = tk.Tk()\n",
    "\n",
    "# Set the title of the window\n",
    "window.title(\"Display Image\")\n",
    "\n",
    "# Set the size of the window\n",
    "window.geometry(\"800x600\")\n",
    "\n",
    "# Create a canvas to display the image\n",
    "canvas = tk.Canvas(window, width=800, height=600)\n",
    "\n",
    "# Load the image using PIL\n",
    "image = Image.open(\"boer_man.jpg\")\n",
    "\n",
    "# Convert the image to a PhotoImage object\n",
    "tk_image = ImageTk.PhotoImage(image)\n",
    "\n",
    "# Create an image item on the canvas using the PhotoImage object\n",
    "canvas.create_image(400, 300, image=tk_image)\n",
    "\n",
    "# Pack the canvas so it appears in the window\n",
    "canvas.pack()\n",
    "\n",
    "# Start the main event loop\n",
    "window.mainloop()\n"
   ]
  },
  {
   "cell_type": "code",
   "execution_count": 15,
   "metadata": {},
   "outputs": [
    {
     "ename": "TclError",
     "evalue": "image \"pyimage3\" doesn't exist",
     "output_type": "error",
     "traceback": [
      "\u001b[1;31m---------------------------------------------------------------------------\u001b[0m",
      "\u001b[1;31mTclError\u001b[0m                                  Traceback (most recent call last)",
      "Cell \u001b[1;32mIn[15], line 27\u001b[0m\n\u001b[0;32m     25\u001b[0m image \u001b[39m=\u001b[39m Image\u001b[39m.\u001b[39mopen(image_path)\n\u001b[0;32m     26\u001b[0m canvas\u001b[39m.\u001b[39mimage \u001b[39m=\u001b[39m ImageTk\u001b[39m.\u001b[39mPhotoImage(image)\n\u001b[1;32m---> 27\u001b[0m canvas\u001b[39m.\u001b[39;49mcreate_image(\u001b[39m400\u001b[39;49m, \u001b[39m300\u001b[39;49m, image\u001b[39m=\u001b[39;49mcanvas\u001b[39m.\u001b[39;49mimage)\n\u001b[0;32m     30\u001b[0m start_time \u001b[39m=\u001b[39m time\u001b[39m.\u001b[39mtime() \u001b[39m*\u001b[39m \u001b[39m1000\u001b[39m\n\u001b[0;32m     31\u001b[0m key \u001b[39m=\u001b[39m keyboard\u001b[39m.\u001b[39mread_event()\u001b[39m.\u001b[39mname\n",
      "File \u001b[1;32mc:\\Python39\\lib\\tkinter\\__init__.py:2790\u001b[0m, in \u001b[0;36mCanvas.create_image\u001b[1;34m(self, *args, **kw)\u001b[0m\n\u001b[0;32m   2788\u001b[0m \u001b[39mdef\u001b[39;00m \u001b[39mcreate_image\u001b[39m(\u001b[39mself\u001b[39m, \u001b[39m*\u001b[39margs, \u001b[39m*\u001b[39m\u001b[39m*\u001b[39mkw):\n\u001b[0;32m   2789\u001b[0m \u001b[39m    \u001b[39m\u001b[39m\"\"\"Create image item with coordinates x1,y1.\"\"\"\u001b[39;00m\n\u001b[1;32m-> 2790\u001b[0m     \u001b[39mreturn\u001b[39;00m \u001b[39mself\u001b[39;49m\u001b[39m.\u001b[39;49m_create(\u001b[39m'\u001b[39;49m\u001b[39mimage\u001b[39;49m\u001b[39m'\u001b[39;49m, args, kw)\n",
      "File \u001b[1;32mc:\\Python39\\lib\\tkinter\\__init__.py:2776\u001b[0m, in \u001b[0;36mCanvas._create\u001b[1;34m(self, itemType, args, kw)\u001b[0m\n\u001b[0;32m   2774\u001b[0m \u001b[39melse\u001b[39;00m:\n\u001b[0;32m   2775\u001b[0m     cnf \u001b[39m=\u001b[39m {}\n\u001b[1;32m-> 2776\u001b[0m \u001b[39mreturn\u001b[39;00m \u001b[39mself\u001b[39m\u001b[39m.\u001b[39mtk\u001b[39m.\u001b[39mgetint(\u001b[39mself\u001b[39;49m\u001b[39m.\u001b[39;49mtk\u001b[39m.\u001b[39;49mcall(\n\u001b[0;32m   2777\u001b[0m     \u001b[39mself\u001b[39;49m\u001b[39m.\u001b[39;49m_w, \u001b[39m'\u001b[39;49m\u001b[39mcreate\u001b[39;49m\u001b[39m'\u001b[39;49m, itemType,\n\u001b[0;32m   2778\u001b[0m     \u001b[39m*\u001b[39;49m(args \u001b[39m+\u001b[39;49m \u001b[39mself\u001b[39;49m\u001b[39m.\u001b[39;49m_options(cnf, kw))))\n",
      "\u001b[1;31mTclError\u001b[0m: image \"pyimage3\" doesn't exist"
     ]
    }
   ],
   "source": [
    "\n",
    "    \n",
    "    \n",
    "# Create a blank window\n",
    "window = tk.Tk()\n",
    "window.title(\"Stimulus\")\n",
    "window.geometry(\"800x600\")\n",
    "window.attributes(\"-topmost\", True)\n",
    "canvas = tk.Canvas(window, width=800, height=600, bg='black')\n",
    "canvas.pack()\n",
    "#canvas.create_text(400, 300, text= \"Press 's' to start, and 's' to end\", fill='red', font=('Arial', 25), anchor=tk.CENTER)\n",
    "#canvas.update()\n",
    "#keyboard.wait('s')\n",
    "#canvas.delete(\"all\")\n",
    "#canvas.update()\n",
    "#window.after(1000)\n",
    "##canvas.create_text(400, 300, text=word, fill='white', font=('Arial', 100), anchor=tk.CENTER)\n",
    "##canvas.update()\n",
    "#window.after(1000)\n",
    "#canvas.delete(\"all\")\n",
    "#canvas.update()\n",
    "#window.after(1000)\n",
    "\n",
    "\n",
    "\n",
    "\n",
    "# get image | convert image to tk format | put on canvas\n",
    "image = Image.open(image_path)\n",
    "canvas.image = ImageTk.PhotoImage(image)\n",
    "canvas.create_image(400, 300, image=canvas.image)\n",
    "\n",
    "\n",
    "start_time = time.time() * 1000\n",
    "key = keyboard.read_event().name\n",
    "end_time = time.time() * 1000\n",
    "duration = end_time - start_time\n",
    "\n",
    "print(key,duration,word)\n",
    "\n",
    "window.destroy()"
   ]
  },
  {
   "cell_type": "markdown",
   "metadata": {},
   "source": []
  },
  {
   "cell_type": "code",
   "execution_count": 6,
   "metadata": {},
   "outputs": [
    {
     "name": "stdout",
     "output_type": "stream",
     "text": [
      "Press 'g' key to start timer\n",
      "g pressed. press 's' to stop\n",
      "Elapsed time: 3271.40 milliseconds\n"
     ]
    }
   ],
   "source": [
    "import time\n",
    "import keyboard\n",
    "\n",
    "print(\"Press 'g' key to start timer\")\n",
    "\n",
    "# wait for 'g' key press\n",
    "keyboard.wait('g')\n",
    "print(\"g pressed. press 's' to stop\")\n",
    "start_time = time.time() * 1000  # convert to milliseconds\n",
    "\n",
    "# wait for 's' key press to stop the timer\n",
    "keyboard.wait('s')\n",
    "\n",
    "end_time = time.time() * 1000  # convert to milliseconds\n",
    "duration = end_time - start_time\n",
    "\n",
    "print(f\"Elapsed time: {duration:.2f} milliseconds\")\n"
   ]
  },
  {
   "cell_type": "code",
   "execution_count": 10,
   "metadata": {},
   "outputs": [
    {
     "name": "stdout",
     "output_type": "stream",
     "text": [
      "Waiting for a key...\n",
      "You pressed: r\n"
     ]
    }
   ],
   "source": [
    "import keyboard\n",
    "\n",
    "print(\"Waiting for a key...\")\n",
    "key = keyboard.read_event().name\n",
    "print(\"You pressed:\", key)\n"
   ]
  }
 ],
 "metadata": {
  "kernelspec": {
   "display_name": "Python 3",
   "language": "python",
   "name": "python3"
  },
  "language_info": {
   "codemirror_mode": {
    "name": "ipython",
    "version": 3
   },
   "file_extension": ".py",
   "mimetype": "text/x-python",
   "name": "python",
   "nbconvert_exporter": "python",
   "pygments_lexer": "ipython3",
   "version": "3.9.13"
  },
  "orig_nbformat": 4
 },
 "nbformat": 4,
 "nbformat_minor": 2
}
