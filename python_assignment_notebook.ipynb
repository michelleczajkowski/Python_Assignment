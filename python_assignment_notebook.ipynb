{
 "cells": [
  {
   "attachments": {},
   "cell_type": "markdown",
   "metadata": {},
   "source": [
    "First, import what's needed"
   ]
  },
  {
   "cell_type": "code",
   "execution_count": 1,
   "metadata": {},
   "outputs": [],
   "source": [
    "import pandas as pd\n",
    "import random\n",
    "import tkinter as tk\n",
    "from PIL import ImageTk, Image"
   ]
  },
  {
   "attachments": {},
   "cell_type": "markdown",
   "metadata": {},
   "source": [
    "Then, the program imports stimulus csv which contains the matches, the gender-distractors, and the random-distractors, and chooses a random word (column 1), and then it's associated image (column 2)"
   ]
  },
  {
   "cell_type": "code",
   "execution_count": 18,
   "metadata": {},
   "outputs": [],
   "source": [
    "# Read the CSV file into a dataframe\n",
    "stimulus = pd.read_csv('stimulus.csv')\n",
    "\n",
    "# Select a random word from the 'word' column\n",
    "word = random.choice(stimulus['word'].tolist())\n",
    "image_name = stimulus.loc[stimulus['word'] == word, 'correct'].iloc[0]\n",
    "image_path = f\"images/{image_name}\"  # assuming images are in the 'images' subdirectory\n",
    "#print(word)\n",
    "#print(image_name)\n",
    "#print(image_path)"
   ]
  },
  {
   "attachments": {},
   "cell_type": "markdown",
   "metadata": {},
   "source": [
    "Canvas opens new window, word pops up 1 sec, blank 1 sec, image pops up 1 sec, blank 1 sec"
   ]
  },
  {
   "cell_type": "code",
   "execution_count": 25,
   "metadata": {},
   "outputs": [],
   "source": [
    "# Create a blank window\n",
    "window = tk.Tk()\n",
    "window.title(\"Stimulus\")\n",
    "window.geometry(\"800x600\")\n",
    "window.attributes(\"-topmost\", True)\n",
    "\n",
    "# Create a canvas to draw the word on\n",
    "canvas = tk.Canvas(window, width=800, height=600, bg='black')\n",
    "canvas.pack()\n",
    "# Draw the word on the canvas in large white letters\n",
    "canvas.create_text(400, 300, text=word, fill='white', font=('Arial', 100), anchor=tk.CENTER)\n",
    "\n",
    "# Update the canvas\n",
    "canvas.update()\n",
    "\n",
    "# Wait for 1 second, close window\n",
    "window.after(1000)\n",
    "canvas.delete(\"all\")\n",
    "canvas.update()\n",
    "# Wait for 1 second, close window\n",
    "window.after(1000)\n",
    "\n",
    "# get image\n",
    "image = Image.open(image_path)\n",
    "\n",
    "\n",
    "# Convert the image to a Tkinter-compatible format\n",
    "photo = ImageTk.PhotoImage(image)\n",
    "\n",
    "\n",
    "#put image on canvas\n",
    "canvas.create_image(300, 200, anchor=tk.NW, image=photo)\n",
    "# Define function to close window on key press\n",
    "def key_press(event):\n",
    "    if event.char == \"g\":\n",
    "        window.destroy()\n",
    "\n",
    "# Bind the key press event to the window\n",
    "window.bind(\"<Key>\", key_press)\n",
    "\n",
    "# Update the canvas\n",
    "canvas.update()\n",
    "\n",
    "# Wait for 5 seconds, or until a key is pressed\n",
    "window.after(5000, window.destroy)\n",
    "\n",
    "# Start the main event loop\n",
    "window.mainloop()\n"
   ]
  },
  {
   "cell_type": "code",
   "execution_count": 36,
   "metadata": {},
   "outputs": [],
   "source": [
    "import tkinter as tk\n",
    "from PIL import Image, ImageTk\n",
    "import pandas as pd\n",
    "import random\n",
    "\n",
    "# Define function to close window on key press\n",
    "def key_press(event):\n",
    "    if event.keysym.lower() == \"g\":\n",
    "        window.destroy()\n",
    "\n",
    "# Read the CSV file into a dataframe\n",
    "stimulus = pd.read_csv('stimulus.csv')\n",
    "\n",
    "# Select a random word from the 'word' column\n",
    "word = random.choice(stimulus['word'].tolist())\n",
    "image_name = stimulus.loc[stimulus['word'] == word, 'correct'].iloc[0]\n",
    "image_path = f\"images/{image_name}\"  # assuming images are in the 'images' subdirectory\n",
    "\n",
    "# Create a blank window\n",
    "window = tk.Tk()\n",
    "window.title(\"Stimulus\")\n",
    "window.geometry(\"800x600\")\n",
    "window.attributes(\"-topmost\", True)\n",
    "\n",
    "# Create a canvas to draw the word on\n",
    "canvas = tk.Canvas(window, width=800, height=600, bg='black')\n",
    "canvas.pack()\n",
    "\n",
    "# Load the image\n",
    "image = Image.open(image_path)\n",
    "\n",
    "# Convert the image to a Tkinter-compatible format\n",
    "photo = ImageTk.PhotoImage(image)\n",
    "\n",
    "# Draw the image on the canvas\n",
    "canvas.create_image(400, 300, image=photo)\n",
    "\n",
    "# Update the canvas\n",
    "canvas.update()\n",
    "\n",
    "# Bind the key press event to the window\n",
    "window.bind(\"<Key>\", key_press)\n",
    "\n",
    "# Wait for 5 seconds, or until a key is pressed\n",
    "window.after(5000, window.destroy)\n",
    "\n",
    "# Start the main event loop\n",
    "window.mainloop()\n"
   ]
  },
  {
   "cell_type": "markdown",
   "metadata": {},
   "source": []
  }
 ],
 "metadata": {
  "kernelspec": {
   "display_name": "Python 3",
   "language": "python",
   "name": "python3"
  },
  "language_info": {
   "codemirror_mode": {
    "name": "ipython",
    "version": 3
   },
   "file_extension": ".py",
   "mimetype": "text/x-python",
   "name": "python",
   "nbconvert_exporter": "python",
   "pygments_lexer": "ipython3",
   "version": "3.9.13"
  },
  "orig_nbformat": 4
 },
 "nbformat": 4,
 "nbformat_minor": 2
}
