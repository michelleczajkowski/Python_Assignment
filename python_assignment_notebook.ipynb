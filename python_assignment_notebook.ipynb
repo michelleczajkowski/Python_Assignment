{
 "cells": [
  {
   "attachments": {},
   "cell_type": "markdown",
   "metadata": {},
   "source": [
    "First, import what's needed"
   ]
  },
  {
   "cell_type": "code",
   "execution_count": 1,
   "metadata": {},
   "outputs": [],
   "source": [
    "import pandas as pd\n",
    "import random\n",
    "import tkinter as tk\n",
    "from PIL import ImageTk, Image\n",
    "import time\n",
    "import keyboard "
   ]
  },
  {
   "cell_type": "code",
   "execution_count": 2,
   "metadata": {},
   "outputs": [],
   "source": [
    "# Read the CSV file into a dataframe\n",
    "stimulus = pd.read_csv('stimulus.csv')"
   ]
  },
  {
   "cell_type": "code",
   "execution_count": 7,
   "metadata": {},
   "outputs": [
    {
     "name": "stdout",
     "output_type": "stream",
     "text": [
      "chirug\n",
      "rechter_man.jpg\n",
      "images/rechter_man.jpg\n"
     ]
    }
   ],
   "source": [
    "# Select a random row from the data set\n",
    "\n",
    "# assign col 1 to 'word'\n",
    "row = stimulus.sample()\n",
    "\n",
    "# Select a random word from the 'word' column\n",
    "word = row.iloc[0, 0]\n",
    "\n",
    "# select the value from the other rows randomly \n",
    "value_col = random.choice([1, 2, 3])\n",
    "image = row.iloc[0, value_col]\n",
    "\n",
    "# create image path \n",
    "image_path = f\"images/{image}\"\n",
    "\n",
    "\n",
    "print(word)\n",
    "print(image)\n",
    "print(image_path)"
   ]
  },
  {
   "cell_type": "code",
   "execution_count": null,
   "metadata": {},
   "outputs": [],
   "source": []
  },
  {
   "cell_type": "code",
   "execution_count": 12,
   "metadata": {},
   "outputs": [],
   "source": [
    "# Create a blank window\n",
    "window = tk.Tk()\n",
    "window.title(\"Stimulus\")\n",
    "window.geometry(\"800x600\")\n",
    "window.attributes(\"-topmost\", True)\n",
    "canvas = tk.Canvas(window, width=800, height=600, bg='black')\n",
    "canvas.pack()\n",
    "canvas.create_text(400, 300, text= \"Press 's' to start, and 's' to end\", fill='red', font=('Arial', 25), \n",
    "                   anchor=tk.CENTER)\n",
    "canvas.update()\n",
    "keyboard.wait('s')\n",
    "canvas.delete(\"all\")\n",
    "canvas.update()\n",
    "window.after(1000)\n",
    "canvas.create_text(400, 300, text=word, fill='white', font=('Arial', 100), anchor=tk.CENTER)\n",
    "canvas.update()\n",
    "window.after(1000)\n",
    "canvas.delete(\"all\")\n",
    "canvas.update()\n",
    "# get image | convert image to tk format | put on canvas\n",
    "image = Image.open(image_path)\n",
    "canvas.image = ImageTk.PhotoImage(image)\n",
    "try:\n",
    "    canvas.create_image(400, 300, image=canvas.image)\n",
    "except tk.TclError:\n",
    "    canvas.delete(\"all\")\n",
    "    canvas.create_text(400, 300, text=\"Error: Could not load image.\", fill='red', font=('Arial', 25),\n",
    "                       anchor=tk.CENTER)\n",
    "    canvas.update()\n",
    "\n",
    "canvas.update()\n",
    "window.after(1000)\n",
    "window.destroy()"
   ]
  },
  {
   "cell_type": "code",
   "execution_count": 29,
   "metadata": {},
   "outputs": [
    {
     "ename": "KeyboardInterrupt",
     "evalue": "",
     "output_type": "error",
     "traceback": [
      "\u001b[1;31m---------------------------------------------------------------------------\u001b[0m",
      "\u001b[1;31mKeyboardInterrupt\u001b[0m                         Traceback (most recent call last)",
      "Cell \u001b[1;32mIn[29], line 10\u001b[0m\n\u001b[0;32m      8\u001b[0m canvas\u001b[39m.\u001b[39mcreate_text(\u001b[39m400\u001b[39m, \u001b[39m300\u001b[39m, text\u001b[39m=\u001b[39m \u001b[39m\"\u001b[39m\u001b[39mPress \u001b[39m\u001b[39m'\u001b[39m\u001b[39ms\u001b[39m\u001b[39m'\u001b[39m\u001b[39m to start, and press \u001b[39m\u001b[39m'\u001b[39m\u001b[39ms\u001b[39m\u001b[39m'\u001b[39m\u001b[39m again if the picture is the SAME as the word\u001b[39m\u001b[39m\"\u001b[39m, fill\u001b[39m=\u001b[39m\u001b[39m'\u001b[39m\u001b[39mred\u001b[39m\u001b[39m'\u001b[39m, font\u001b[39m=\u001b[39m(\u001b[39m'\u001b[39m\u001b[39mArial\u001b[39m\u001b[39m'\u001b[39m, \u001b[39m50\u001b[39m), anchor\u001b[39m=\u001b[39mtk\u001b[39m.\u001b[39mCENTER)\n\u001b[0;32m      9\u001b[0m canvas\u001b[39m.\u001b[39mupdate()\n\u001b[1;32m---> 10\u001b[0m keyboard\u001b[39m.\u001b[39;49mwait(\u001b[39m'\u001b[39;49m\u001b[39ms\u001b[39;49m\u001b[39m'\u001b[39;49m)\n\u001b[0;32m     11\u001b[0m canvas\u001b[39m.\u001b[39mdelete(\u001b[39m\"\u001b[39m\u001b[39mall\u001b[39m\u001b[39m\"\u001b[39m)\n\u001b[0;32m     12\u001b[0m canvas\u001b[39m.\u001b[39mupdate()\n",
      "File \u001b[1;32mc:\\Python39\\lib\\site-packages\\keyboard\\__init__.py:882\u001b[0m, in \u001b[0;36mwait\u001b[1;34m(hotkey, suppress, trigger_on_release)\u001b[0m\n\u001b[0;32m    880\u001b[0m     lock \u001b[39m=\u001b[39m _Event()\n\u001b[0;32m    881\u001b[0m     remove \u001b[39m=\u001b[39m add_hotkey(hotkey, \u001b[39mlambda\u001b[39;00m: lock\u001b[39m.\u001b[39mset(), suppress\u001b[39m=\u001b[39msuppress, trigger_on_release\u001b[39m=\u001b[39mtrigger_on_release)\n\u001b[1;32m--> 882\u001b[0m     lock\u001b[39m.\u001b[39;49mwait()\n\u001b[0;32m    883\u001b[0m     remove_hotkey(remove)\n\u001b[0;32m    884\u001b[0m \u001b[39melse\u001b[39;00m:\n",
      "File \u001b[1;32mc:\\Python39\\lib\\site-packages\\keyboard\\__init__.py:117\u001b[0m, in \u001b[0;36m_Event.wait\u001b[1;34m(self)\u001b[0m\n\u001b[0;32m    115\u001b[0m \u001b[39mdef\u001b[39;00m \u001b[39mwait\u001b[39m(\u001b[39mself\u001b[39m):\n\u001b[0;32m    116\u001b[0m     \u001b[39mwhile\u001b[39;00m \u001b[39mTrue\u001b[39;00m:\n\u001b[1;32m--> 117\u001b[0m         \u001b[39mif\u001b[39;00m _UninterruptibleEvent\u001b[39m.\u001b[39;49mwait(\u001b[39mself\u001b[39;49m, \u001b[39m0.5\u001b[39;49m):\n\u001b[0;32m    118\u001b[0m             \u001b[39mbreak\u001b[39;00m\n",
      "File \u001b[1;32mc:\\Python39\\lib\\threading.py:581\u001b[0m, in \u001b[0;36mEvent.wait\u001b[1;34m(self, timeout)\u001b[0m\n\u001b[0;32m    579\u001b[0m signaled \u001b[39m=\u001b[39m \u001b[39mself\u001b[39m\u001b[39m.\u001b[39m_flag\n\u001b[0;32m    580\u001b[0m \u001b[39mif\u001b[39;00m \u001b[39mnot\u001b[39;00m signaled:\n\u001b[1;32m--> 581\u001b[0m     signaled \u001b[39m=\u001b[39m \u001b[39mself\u001b[39;49m\u001b[39m.\u001b[39;49m_cond\u001b[39m.\u001b[39;49mwait(timeout)\n\u001b[0;32m    582\u001b[0m \u001b[39mreturn\u001b[39;00m signaled\n",
      "File \u001b[1;32mc:\\Python39\\lib\\threading.py:316\u001b[0m, in \u001b[0;36mCondition.wait\u001b[1;34m(self, timeout)\u001b[0m\n\u001b[0;32m    314\u001b[0m \u001b[39melse\u001b[39;00m:\n\u001b[0;32m    315\u001b[0m     \u001b[39mif\u001b[39;00m timeout \u001b[39m>\u001b[39m \u001b[39m0\u001b[39m:\n\u001b[1;32m--> 316\u001b[0m         gotit \u001b[39m=\u001b[39m waiter\u001b[39m.\u001b[39;49macquire(\u001b[39mTrue\u001b[39;49;00m, timeout)\n\u001b[0;32m    317\u001b[0m     \u001b[39melse\u001b[39;00m:\n\u001b[0;32m    318\u001b[0m         gotit \u001b[39m=\u001b[39m waiter\u001b[39m.\u001b[39macquire(\u001b[39mFalse\u001b[39;00m)\n",
      "\u001b[1;31mKeyboardInterrupt\u001b[0m: "
     ]
    }
   ],
   "source": [
    "# Create a blank window\n",
    "window = tk.Tk()\n",
    "window.title(\"Stimulus\")\n",
    "window.geometry(\"800x600\")\n",
    "window.attributes(\"-topmost\", True)\n",
    "canvas = tk.Canvas(window, width=800, height=600, bg='black')\n",
    "canvas.pack()\n",
    "canvas.create_text(400, 300, text= \"Press 's' to start, and 's' to end\", fill='red', font=('Arial', 25), \n",
    "                   anchor=tk.CENTER)\n",
    "canvas.update()\n",
    "keyboard.wait('s')\n",
    "canvas.delete(\"all\")\n",
    "canvas.update()\n",
    "window.after(1000)\n",
    "canvas.create_text(400, 300, text=word, fill='white', font=('Arial', 100), anchor=tk.CENTER)\n",
    "canvas.update()\n",
    "window.after(1000)\n",
    "canvas.delete(\"all\")\n",
    "canvas.update()\n",
    "# get image | convert image to tk format | put on canvas\n",
    "image = Image.open(image_path)\n",
    "photo = ImageTk.PhotoImage(image)\n",
    "canvas.create_image(300, 200, anchor=tk.NW, image=photo)\n",
    "start_time = time.time() * 1000\n",
    "canvas.update()\n",
    "keyboard.wait('s') \n",
    "end_time = time.time() * 1000\n",
    "window.destroy()\n",
    "duration = end_time - start_time\n",
    "print(duration)"
   ]
  },
  {
   "cell_type": "code",
   "execution_count": 3,
   "metadata": {},
   "outputs": [
    {
     "ename": "NameError",
     "evalue": "name 'key_press' is not defined",
     "output_type": "error",
     "traceback": [
      "\u001b[1;31m---------------------------------------------------------------------------\u001b[0m",
      "\u001b[1;31mNameError\u001b[0m                                 Traceback (most recent call last)",
      "Cell \u001b[1;32mIn[3], line 56\u001b[0m\n\u001b[0;32m     53\u001b[0m         \u001b[39m# Close the window\u001b[39;00m\n\u001b[0;32m     54\u001b[0m         window\u001b[39m.\u001b[39mdestroy()\n\u001b[1;32m---> 56\u001b[0m window\u001b[39m.\u001b[39mbind(\u001b[39m\"\u001b[39m\u001b[39m<Key>\u001b[39m\u001b[39m\"\u001b[39m, key_press)\n\u001b[0;32m     57\u001b[0m \u001b[39m# Update the canvas\u001b[39;00m\n\u001b[0;32m     58\u001b[0m canvas\u001b[39m.\u001b[39mupdate()\n",
      "\u001b[1;31mNameError\u001b[0m: name 'key_press' is not defined"
     ]
    },
    {
     "ename": "",
     "evalue": "",
     "output_type": "error",
     "traceback": [
      "\u001b[1;31mThe Kernel crashed while executing code in the the current cell or a previous cell. Please review the code in the cell(s) to identify a possible cause of the failure. Click <a href='https://aka.ms/vscodeJupyterKernelCrash'>here</a> for more info. View Jupyter <a href='command:jupyter.viewOutput'>log</a> for further details."
     ]
    }
   ],
   "source": [
    "\n",
    "\n",
    "# get image\n",
    "image = Image.open(image_path)\n",
    "\n",
    "\n",
    "# Convert the image to a Tkinter-compatible format\n",
    "photo = ImageTk.PhotoImage(image)\n",
    "\n",
    "\n",
    "#put image on canvas\n",
    "canvas.create_image(300, 200, anchor=tk.NW, image=photo)\n",
    "\n",
    "# Record the start time\n",
    "start_time = time.time() * 1000\n",
    "elapsed_time = 0\n",
    "\n",
    "# Define function to close window on key press\n",
    "def on_key_press(event):\n",
    "    global elapsed_time\n",
    "    if event.char == 'g':\n",
    "        # Calculate the elapsed time and print it\n",
    "        elapsed_time = (time.time() * 1000) - start_time\n",
    "        \n",
    "        \n",
    "        # Close the window\n",
    "        window.destroy()\n",
    "\n",
    "window.bind(\"<Key>\", key_press)\n",
    "# Update the canvas\n",
    "canvas.update()\n",
    "\n",
    "# Start the main event loop\n",
    "window.mainloop()\n",
    "\n",
    "print(f\"Elapsed time: {elapsed_time} milliseconds\")\n"
   ]
  },
  {
   "cell_type": "markdown",
   "metadata": {},
   "source": []
  },
  {
   "cell_type": "code",
   "execution_count": 6,
   "metadata": {},
   "outputs": [
    {
     "name": "stdout",
     "output_type": "stream",
     "text": [
      "Press 'g' key to start timer\n",
      "g pressed. press 's' to stop\n",
      "Elapsed time: 3271.40 milliseconds\n"
     ]
    }
   ],
   "source": [
    "import time\n",
    "import keyboard\n",
    "\n",
    "print(\"Press 'g' key to start timer\")\n",
    "\n",
    "# wait for 'g' key press\n",
    "keyboard.wait('g')\n",
    "print(\"g pressed. press 's' to stop\")\n",
    "start_time = time.time() * 1000  # convert to milliseconds\n",
    "\n",
    "# wait for 's' key press to stop the timer\n",
    "keyboard.wait('s')\n",
    "\n",
    "end_time = time.time() * 1000  # convert to milliseconds\n",
    "duration = end_time - start_time\n",
    "\n",
    "print(f\"Elapsed time: {duration:.2f} milliseconds\")\n"
   ]
  }
 ],
 "metadata": {
  "kernelspec": {
   "display_name": "Python 3",
   "language": "python",
   "name": "python3"
  },
  "language_info": {
   "codemirror_mode": {
    "name": "ipython",
    "version": 3
   },
   "file_extension": ".py",
   "mimetype": "text/x-python",
   "name": "python",
   "nbconvert_exporter": "python",
   "pygments_lexer": "ipython3",
   "version": "3.9.13"
  },
  "orig_nbformat": 4
 },
 "nbformat": 4,
 "nbformat_minor": 2
}
