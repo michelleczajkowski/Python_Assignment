{
 "cells": [
  {
   "cell_type": "code",
   "execution_count": 2,
   "metadata": {},
   "outputs": [],
   "source": [
    "import pandas as pd\n",
    "import random\n",
    "import tkinter as tk\n",
    "from PIL import ImageTk, Image\n",
    "import time\n",
    "import keyboard "
   ]
  },
  {
   "cell_type": "code",
   "execution_count": 3,
   "metadata": {},
   "outputs": [],
   "source": [
    "# Read the CSV file into a dataframe\n",
    "stimulus = pd.read_csv('stimulus.csv')"
   ]
  },
  {
   "cell_type": "code",
   "execution_count": 4,
   "metadata": {},
   "outputs": [
    {
     "name": "stdout",
     "output_type": "stream",
     "text": [
      "kunstenaar\n",
      "leraar_man.jpg\n",
      "images\\leraar_man.jpg\n"
     ]
    }
   ],
   "source": [
    "# Select a random row from the data set\n",
    "\n",
    "# assign col 1 to 'word'\n",
    "row = stimulus.sample()\n",
    "\n",
    "# Select a random word from the 'word' column\n",
    "word = row.iloc[0, 0]\n",
    "\n",
    "# select the value from the other rows randomly \n",
    "value_col = random.choice([1, 2, 3])\n",
    "image = row.iloc[0, value_col]\n",
    "\n",
    "# create image path \n",
    "image_path = f\"images\\\\{image}\"\n",
    "\n",
    "\n",
    "print(word)\n",
    "print(image)\n",
    "print(image_path)"
   ]
  },
  {
   "cell_type": "code",
   "execution_count": null,
   "metadata": {},
   "outputs": [],
   "source": []
  },
  {
   "cell_type": "code",
   "execution_count": 13,
   "metadata": {},
   "outputs": [],
   "source": [
    "\n",
    "    \n",
    "    \n",
    "# Create a blank window\n",
    "window = tk.Tk()\n",
    "window.title(\"Stimulus\")\n",
    "window.geometry(\"800x600\")\n",
    "window.attributes(\"-topmost\", True)\n",
    "canvas = tk.Canvas(window, width=800, height=600, bg='black')\n",
    "canvas.pack()\n",
    "#canvas.create_text(400, 300, text= \"Press 's' to start, and 's' to end\", fill='red', font=('Arial', 25), anchor=tk.CENTER)\n",
    "#canvas.update()\n",
    "#keyboard.wait('s')\n",
    "#canvas.delete(\"all\")\n",
    "#canvas.update()\n",
    "#window.after(1000)\n",
    "canvas.create_text(400, 300, text=word, fill='white', font=('Arial', 100), anchor=tk.CENTER)\n",
    "canvas.update()\n",
    "#window.after(1000)\n",
    "#canvas.delete(\"all\")\n",
    "#canvas.update()\n",
    "#window.after(1000)\n",
    "\n",
    "start_time = time.time() * 1000\n",
    "\n",
    "\n",
    "# get image | convert image to tk format | put on canvas\n",
    "#image = Image.open(image_path)\n",
    "#canvas.image = ImageTk.PhotoImage(image)\n",
    "#try:\n",
    "    #canvas.create_image(400, 300, image=canvas.image)\n",
    "#except tk.TclError:\n",
    "    #canvas.delete(\"all\")\n",
    "    #canvas.create_text(400, 300, text=\"Error: Could not load image.\", fill='red', font=('Arial', 25), anchor=tk.CENTER)\n",
    "    #canvas.update()\n",
    "#def close_window(event=None):\n",
    "    #window.destroy()\n",
    "\n",
    "key = keyboard.read_event().name\n",
    "end_time = time.time() * 1000\n",
    "duration = end_time - start_time\n",
    "\n",
    "print(key,duration,word)\n",
    "\n",
    "window.destroy()"
   ]
  },
  {
   "cell_type": "markdown",
   "metadata": {},
   "source": []
  },
  {
   "cell_type": "code",
   "execution_count": 6,
   "metadata": {},
   "outputs": [
    {
     "name": "stdout",
     "output_type": "stream",
     "text": [
      "Press 'g' key to start timer\n",
      "g pressed. press 's' to stop\n",
      "Elapsed time: 3271.40 milliseconds\n"
     ]
    }
   ],
   "source": [
    "import time\n",
    "import keyboard\n",
    "\n",
    "print(\"Press 'g' key to start timer\")\n",
    "\n",
    "# wait for 'g' key press\n",
    "keyboard.wait('g')\n",
    "print(\"g pressed. press 's' to stop\")\n",
    "start_time = time.time() * 1000  # convert to milliseconds\n",
    "\n",
    "# wait for 's' key press to stop the timer\n",
    "keyboard.wait('s')\n",
    "\n",
    "end_time = time.time() * 1000  # convert to milliseconds\n",
    "duration = end_time - start_time\n",
    "\n",
    "print(f\"Elapsed time: {duration:.2f} milliseconds\")\n"
   ]
  },
  {
   "cell_type": "code",
   "execution_count": 10,
   "metadata": {},
   "outputs": [
    {
     "name": "stdout",
     "output_type": "stream",
     "text": [
      "Waiting for a key...\n",
      "You pressed: r\n"
     ]
    }
   ],
   "source": [
    "import keyboard\n",
    "\n",
    "print(\"Waiting for a key...\")\n",
    "key = keyboard.read_event().name\n",
    "print(\"You pressed:\", key)\n"
   ]
  }
 ],
 "metadata": {
  "kernelspec": {
   "display_name": "Python 3",
   "language": "python",
   "name": "python3"
  },
  "language_info": {
   "codemirror_mode": {
    "name": "ipython",
    "version": 3
   },
   "file_extension": ".py",
   "mimetype": "text/x-python",
   "name": "python",
   "nbconvert_exporter": "python",
   "pygments_lexer": "ipython3",
   "version": "3.9.13"
  },
  "orig_nbformat": 4
 },
 "nbformat": 4,
 "nbformat_minor": 2
}
